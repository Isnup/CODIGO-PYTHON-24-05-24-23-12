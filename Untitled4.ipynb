{
  "nbformat": 4,
  "nbformat_minor": 0,
  "metadata": {
    "colab": {
      "provenance": [],
      "authorship_tag": "ABX9TyM3xlS3j6/K60YIyLRMMdIP",
      "include_colab_link": true
    },
    "kernelspec": {
      "name": "python3",
      "display_name": "Python 3"
    },
    "language_info": {
      "name": "python"
    }
  },
  "cells": [
    {
      "cell_type": "markdown",
      "metadata": {
        "id": "view-in-github",
        "colab_type": "text"
      },
      "source": [
        "<a href=\"https://colab.research.google.com/github/Isnup/CODIGO-PYTHON-24-05-24-23-12/blob/main/Untitled4.ipynb\" target=\"_parent\"><img src=\"https://colab.research.google.com/assets/colab-badge.svg\" alt=\"Open In Colab\"/></a>"
      ]
    },
    {
      "cell_type": "code",
      "source": [
        "from google.cloud import storage\n",
        "from google.cloud import vision\n",
        "import os\n",
        "import re\n",
        "\n",
        "# Credenciais da Google Cloud (ajuste conforme necessário)\n",
        "os.environ[\"GOOGLE_APPLICATION_CREDENTIALS\"] = \"/content/brilliant-tower-423920-d0-18f95ca9a6f2.json\"\n",
        "\n",
        "# Configuração do projeto e buckets (retirada, pois não interfere no código)\n",
        "# project_id = \"brilliant-tower-423920-d0\"\n",
        "# bucket_name_boas = \"imagens_badgods/good_images\"\n",
        "# bucket_name_ruins = \"imagens_badgods/bad_images\"\n",
        "\n",
        "# Inicializa clientes do Google Cloud\n",
        "storage_client = storage.Client()\n",
        "vision_client = vision.ImageAnnotatorClient()\n",
        "\n",
        "# Define o texto modelo a ser comparado, removendo a hora\n",
        "texto_modelo = \"\"\"DF 1 VAL 131124\n",
        "4 P170524\"\"\"\n",
        "\n",
        "def analisar_imagem(imagem_url):\n",
        "    \"\"\"\n",
        "    Analisa uma imagem de código de data e retorna \"IMAGEM OK\" se o texto extraído\n",
        "    corresponder ao texto modelo, ou \"IMAGEM NAO OK\" caso contrário.\n",
        "    Também retorna o texto extraído da imagem, sem a hora.\n",
        "\n",
        "    Args:\n",
        "        imagem_url: URL da imagem a ser analisada.\n",
        "\n",
        "    Returns:\n",
        "        tuple: (str, str) -  Uma tupla contendo o resultado da análise\n",
        "               (\"IMAGEM OK\" ou \"IMAGEM NAO OK\") e o texto extraído da imagem sem hora.\n",
        "    \"\"\"\n",
        "\n",
        "    # Cria uma lista de características a serem extraídas da imagem\n",
        "    features = [{\"type_\": vision.Feature.Type.TEXT_DETECTION}]\n",
        "\n",
        "    # Prepara a requisição para a API Vision\n",
        "    image = vision.Image(source=vision.ImageSource(image_uri=imagem_url))\n",
        "    request = vision.AnnotateImageRequest(image=image, features=features)\n",
        "\n",
        "    try:\n",
        "        # Faz a requisição à API Vision\n",
        "        response = vision_client.annotate_image(request=request)\n",
        "\n",
        "        # Extrai o texto detectado\n",
        "        texts = response.text_annotations\n",
        "        texto_detectado = texts[0].description if texts else \"\"\n",
        "\n",
        "        # Remove a hora do texto extraído\n",
        "        texto_detectado_sem_hora = re.sub(r\" \\d{1,2}:\\d{2} \", \" \", texto_detectado)\n",
        "\n",
        "        # Compara o texto extraído (sem hora) com o texto modelo\n",
        "        if texto_detectado_sem_hora.strip() == texto_modelo.strip():\n",
        "            return \"IMAGEM OK\", texto_detectado_sem_hora\n",
        "        else:\n",
        "            return \"IMAGEM NAO OK\", texto_detectado_sem_hora\n",
        "    except Exception as e:\n",
        "        print(f\"Erro ao analisar a imagem: {e}\")\n",
        "        return \"ERRO\", \"\" # Retorna \"ERRO\" e uma string vazia em caso de erro\n",
        "\n",
        "# URL da imagem a ser analisada\n",
        "imagem_url = (\"https://storage.googleapis.com/imagens_badgods/Nova%20pasta%203/IMG_20240517_174256.jpg\")\n",
        "\n",
        "# Analisa a imagem\n",
        "resultado, texto_extraido = analisar_imagem(imagem_url)\n",
        "\n",
        "# Imprime o texto extraído sem hora e o resultado\n",
        "print(texto_extraido)\n",
        "print(resultado)"
      ],
      "metadata": {
        "id": "HxUPp-jld9U1",
        "outputId": "244a4a3a-2b4b-4098-d72c-a0996e3a3faf",
        "colab": {
          "base_uri": "https://localhost:8080/"
        }
      },
      "execution_count": 31,
      "outputs": [
        {
          "output_type": "stream",
          "name": "stdout",
          "text": [
            "OF 1 VAL 131124\n",
            "4 P170524\n",
            "IMAGEM NAO OK\n"
          ]
        }
      ]
    }
  ]
}